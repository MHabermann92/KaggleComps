{
 "cells": [
  {
   "cell_type": "markdown",
   "id": "243d5892-0377-4545-8d0a-5ee350c67d42",
   "metadata": {},
   "source": [
    "In this notebook we approach the Titanic dataset with a simple logistic regression. "
   ]
  },
  {
   "cell_type": "code",
   "execution_count": 25,
   "id": "e4a54525-371f-4d35-87da-e39aead7daf9",
   "metadata": {},
   "outputs": [
    {
     "data": {
      "text/html": [
       "<div>\n",
       "<style scoped>\n",
       "    .dataframe tbody tr th:only-of-type {\n",
       "        vertical-align: middle;\n",
       "    }\n",
       "\n",
       "    .dataframe tbody tr th {\n",
       "        vertical-align: top;\n",
       "    }\n",
       "\n",
       "    .dataframe thead th {\n",
       "        text-align: right;\n",
       "    }\n",
       "</style>\n",
       "<table border=\"1\" class=\"dataframe\">\n",
       "  <thead>\n",
       "    <tr style=\"text-align: right;\">\n",
       "      <th></th>\n",
       "      <th>Survived</th>\n",
       "      <th>Pclass</th>\n",
       "      <th>Name</th>\n",
       "      <th>Sex</th>\n",
       "      <th>Age</th>\n",
       "      <th>SibSp</th>\n",
       "      <th>Parch</th>\n",
       "      <th>Ticket</th>\n",
       "      <th>Fare</th>\n",
       "      <th>Cabin</th>\n",
       "      <th>Embarked</th>\n",
       "    </tr>\n",
       "    <tr>\n",
       "      <th>PassengerId</th>\n",
       "      <th></th>\n",
       "      <th></th>\n",
       "      <th></th>\n",
       "      <th></th>\n",
       "      <th></th>\n",
       "      <th></th>\n",
       "      <th></th>\n",
       "      <th></th>\n",
       "      <th></th>\n",
       "      <th></th>\n",
       "      <th></th>\n",
       "    </tr>\n",
       "  </thead>\n",
       "  <tbody>\n",
       "    <tr>\n",
       "      <th>1</th>\n",
       "      <td>0</td>\n",
       "      <td>3</td>\n",
       "      <td>Braund, Mr. Owen Harris</td>\n",
       "      <td>male</td>\n",
       "      <td>22.0</td>\n",
       "      <td>1</td>\n",
       "      <td>0</td>\n",
       "      <td>A/5 21171</td>\n",
       "      <td>7.2500</td>\n",
       "      <td>NaN</td>\n",
       "      <td>S</td>\n",
       "    </tr>\n",
       "    <tr>\n",
       "      <th>2</th>\n",
       "      <td>1</td>\n",
       "      <td>1</td>\n",
       "      <td>Cumings, Mrs. John Bradley (Florence Briggs Th...</td>\n",
       "      <td>female</td>\n",
       "      <td>38.0</td>\n",
       "      <td>1</td>\n",
       "      <td>0</td>\n",
       "      <td>PC 17599</td>\n",
       "      <td>71.2833</td>\n",
       "      <td>C85</td>\n",
       "      <td>C</td>\n",
       "    </tr>\n",
       "    <tr>\n",
       "      <th>3</th>\n",
       "      <td>1</td>\n",
       "      <td>3</td>\n",
       "      <td>Heikkinen, Miss. Laina</td>\n",
       "      <td>female</td>\n",
       "      <td>26.0</td>\n",
       "      <td>0</td>\n",
       "      <td>0</td>\n",
       "      <td>STON/O2. 3101282</td>\n",
       "      <td>7.9250</td>\n",
       "      <td>NaN</td>\n",
       "      <td>S</td>\n",
       "    </tr>\n",
       "    <tr>\n",
       "      <th>4</th>\n",
       "      <td>1</td>\n",
       "      <td>1</td>\n",
       "      <td>Futrelle, Mrs. Jacques Heath (Lily May Peel)</td>\n",
       "      <td>female</td>\n",
       "      <td>35.0</td>\n",
       "      <td>1</td>\n",
       "      <td>0</td>\n",
       "      <td>113803</td>\n",
       "      <td>53.1000</td>\n",
       "      <td>C123</td>\n",
       "      <td>S</td>\n",
       "    </tr>\n",
       "    <tr>\n",
       "      <th>5</th>\n",
       "      <td>0</td>\n",
       "      <td>3</td>\n",
       "      <td>Allen, Mr. William Henry</td>\n",
       "      <td>male</td>\n",
       "      <td>35.0</td>\n",
       "      <td>0</td>\n",
       "      <td>0</td>\n",
       "      <td>373450</td>\n",
       "      <td>8.0500</td>\n",
       "      <td>NaN</td>\n",
       "      <td>S</td>\n",
       "    </tr>\n",
       "  </tbody>\n",
       "</table>\n",
       "</div>"
      ],
      "text/plain": [
       "             Survived  Pclass  \\\n",
       "PassengerId                     \n",
       "1                   0       3   \n",
       "2                   1       1   \n",
       "3                   1       3   \n",
       "4                   1       1   \n",
       "5                   0       3   \n",
       "\n",
       "                                                          Name     Sex   Age  \\\n",
       "PassengerId                                                                    \n",
       "1                                      Braund, Mr. Owen Harris    male  22.0   \n",
       "2            Cumings, Mrs. John Bradley (Florence Briggs Th...  female  38.0   \n",
       "3                                       Heikkinen, Miss. Laina  female  26.0   \n",
       "4                 Futrelle, Mrs. Jacques Heath (Lily May Peel)  female  35.0   \n",
       "5                                     Allen, Mr. William Henry    male  35.0   \n",
       "\n",
       "             SibSp  Parch            Ticket     Fare Cabin Embarked  \n",
       "PassengerId                                                          \n",
       "1                1      0         A/5 21171   7.2500   NaN        S  \n",
       "2                1      0          PC 17599  71.2833   C85        C  \n",
       "3                0      0  STON/O2. 3101282   7.9250   NaN        S  \n",
       "4                1      0            113803  53.1000  C123        S  \n",
       "5                0      0            373450   8.0500   NaN        S  "
      ]
     },
     "execution_count": 25,
     "metadata": {},
     "output_type": "execute_result"
    }
   ],
   "source": [
    "import numpy as np\n",
    "import pandas as pd\n",
    "from math import log\n",
    "%matplotlib inline \n",
    "import matplotlib.pyplot as plt\n",
    "import warnings\n",
    "from sklearn.compose import ColumnTransformer\n",
    "from sklearn.pipeline import Pipeline\n",
    "from sklearn.impute import SimpleImputer\n",
    "from sklearn.preprocessing import StandardScaler, OrdinalEncoder,OneHotEncoder\n",
    "warnings.filterwarnings('ignore')\n",
    "\n",
    "\n",
    "train_data = pd.read_csv(\"Titanic/train.csv\")\n",
    "test_data = pd.read_csv(\"Titanic/test.csv\")\n",
    "\n",
    "pd.set_option('display.max_columns', None)\n",
    "pd.set_option('display.max_rows', None)\n",
    "train_data = train_data.copy()\n",
    "test_data = test_data.copy()\n",
    "train_data = train_data.set_index(\"PassengerId\")\n",
    "test_data = test_data.set_index(\"PassengerId\")\n",
    "train_data.head()"
   ]
  },
  {
   "cell_type": "code",
   "execution_count": 26,
   "id": "4fb9973f-2eaa-4a1c-bc77-734a581dd708",
   "metadata": {},
   "outputs": [
    {
     "name": "stdout",
     "output_type": "stream",
     "text": [
      "<class 'pandas.core.frame.DataFrame'>\n",
      "Index: 891 entries, 1 to 891\n",
      "Data columns (total 11 columns):\n",
      " #   Column    Non-Null Count  Dtype  \n",
      "---  ------    --------------  -----  \n",
      " 0   Survived  891 non-null    int64  \n",
      " 1   Pclass    891 non-null    int64  \n",
      " 2   Name      891 non-null    object \n",
      " 3   Sex       891 non-null    object \n",
      " 4   Age       714 non-null    float64\n",
      " 5   SibSp     891 non-null    int64  \n",
      " 6   Parch     891 non-null    int64  \n",
      " 7   Ticket    891 non-null    object \n",
      " 8   Fare      891 non-null    float64\n",
      " 9   Cabin     204 non-null    object \n",
      " 10  Embarked  889 non-null    object \n",
      "dtypes: float64(2), int64(4), object(5)\n",
      "memory usage: 83.5+ KB\n"
     ]
    }
   ],
   "source": [
    "train_data.info()"
   ]
  },
  {
   "cell_type": "code",
   "execution_count": 27,
   "id": "8e2bb366-263a-415f-bb5f-c06d65fd44d6",
   "metadata": {},
   "outputs": [
    {
     "data": {
      "text/html": [
       "<div>\n",
       "<style scoped>\n",
       "    .dataframe tbody tr th:only-of-type {\n",
       "        vertical-align: middle;\n",
       "    }\n",
       "\n",
       "    .dataframe tbody tr th {\n",
       "        vertical-align: top;\n",
       "    }\n",
       "\n",
       "    .dataframe thead th {\n",
       "        text-align: right;\n",
       "    }\n",
       "</style>\n",
       "<table border=\"1\" class=\"dataframe\">\n",
       "  <thead>\n",
       "    <tr style=\"text-align: right;\">\n",
       "      <th></th>\n",
       "      <th>Survived</th>\n",
       "      <th>Pclass</th>\n",
       "      <th>Age</th>\n",
       "      <th>SibSp</th>\n",
       "      <th>Parch</th>\n",
       "      <th>Fare</th>\n",
       "    </tr>\n",
       "  </thead>\n",
       "  <tbody>\n",
       "    <tr>\n",
       "      <th>count</th>\n",
       "      <td>891.000000</td>\n",
       "      <td>891.000000</td>\n",
       "      <td>714.000000</td>\n",
       "      <td>891.000000</td>\n",
       "      <td>891.000000</td>\n",
       "      <td>891.000000</td>\n",
       "    </tr>\n",
       "    <tr>\n",
       "      <th>mean</th>\n",
       "      <td>0.383838</td>\n",
       "      <td>2.308642</td>\n",
       "      <td>29.699118</td>\n",
       "      <td>0.523008</td>\n",
       "      <td>0.381594</td>\n",
       "      <td>32.204208</td>\n",
       "    </tr>\n",
       "    <tr>\n",
       "      <th>std</th>\n",
       "      <td>0.486592</td>\n",
       "      <td>0.836071</td>\n",
       "      <td>14.526497</td>\n",
       "      <td>1.102743</td>\n",
       "      <td>0.806057</td>\n",
       "      <td>49.693429</td>\n",
       "    </tr>\n",
       "    <tr>\n",
       "      <th>min</th>\n",
       "      <td>0.000000</td>\n",
       "      <td>1.000000</td>\n",
       "      <td>0.420000</td>\n",
       "      <td>0.000000</td>\n",
       "      <td>0.000000</td>\n",
       "      <td>0.000000</td>\n",
       "    </tr>\n",
       "    <tr>\n",
       "      <th>25%</th>\n",
       "      <td>0.000000</td>\n",
       "      <td>2.000000</td>\n",
       "      <td>20.125000</td>\n",
       "      <td>0.000000</td>\n",
       "      <td>0.000000</td>\n",
       "      <td>7.910400</td>\n",
       "    </tr>\n",
       "    <tr>\n",
       "      <th>50%</th>\n",
       "      <td>0.000000</td>\n",
       "      <td>3.000000</td>\n",
       "      <td>28.000000</td>\n",
       "      <td>0.000000</td>\n",
       "      <td>0.000000</td>\n",
       "      <td>14.454200</td>\n",
       "    </tr>\n",
       "    <tr>\n",
       "      <th>75%</th>\n",
       "      <td>1.000000</td>\n",
       "      <td>3.000000</td>\n",
       "      <td>38.000000</td>\n",
       "      <td>1.000000</td>\n",
       "      <td>0.000000</td>\n",
       "      <td>31.000000</td>\n",
       "    </tr>\n",
       "    <tr>\n",
       "      <th>max</th>\n",
       "      <td>1.000000</td>\n",
       "      <td>3.000000</td>\n",
       "      <td>80.000000</td>\n",
       "      <td>8.000000</td>\n",
       "      <td>6.000000</td>\n",
       "      <td>512.329200</td>\n",
       "    </tr>\n",
       "  </tbody>\n",
       "</table>\n",
       "</div>"
      ],
      "text/plain": [
       "         Survived      Pclass         Age       SibSp       Parch        Fare\n",
       "count  891.000000  891.000000  714.000000  891.000000  891.000000  891.000000\n",
       "mean     0.383838    2.308642   29.699118    0.523008    0.381594   32.204208\n",
       "std      0.486592    0.836071   14.526497    1.102743    0.806057   49.693429\n",
       "min      0.000000    1.000000    0.420000    0.000000    0.000000    0.000000\n",
       "25%      0.000000    2.000000   20.125000    0.000000    0.000000    7.910400\n",
       "50%      0.000000    3.000000   28.000000    0.000000    0.000000   14.454200\n",
       "75%      1.000000    3.000000   38.000000    1.000000    0.000000   31.000000\n",
       "max      1.000000    3.000000   80.000000    8.000000    6.000000  512.329200"
      ]
     },
     "execution_count": 27,
     "metadata": {},
     "output_type": "execute_result"
    }
   ],
   "source": [
    "train_data.describe()"
   ]
  },
  {
   "cell_type": "code",
   "execution_count": 28,
   "id": "c1f386e7-fe71-4127-815f-1e6b4f2c9df3",
   "metadata": {},
   "outputs": [
    {
     "name": "stdout",
     "output_type": "stream",
     "text": [
      "Age\n",
      "False    714\n",
      "True     177\n",
      "Name: count, dtype: int64\n",
      "Cabin\n",
      "True     687\n",
      "False    204\n",
      "Name: count, dtype: int64\n",
      "Embarked\n",
      "False    889\n",
      "True       2\n",
      "Name: count, dtype: int64\n"
     ]
    }
   ],
   "source": [
    "for col in train_data.columns:\n",
    "    if train_data[col].isna().any():\n",
    "        print(train_data[col].isna().value_counts())"
   ]
  },
  {
   "cell_type": "markdown",
   "id": "02227cce-9e1e-4e3e-8366-c1ee4209e830",
   "metadata": {},
   "source": [
    "From the above, it seems clear that name, cabin and ticket won't  be useful features. Clearly one can't predict whether someone survived by their name (unless, maybe, it starts with 'Lord', or something like this). Cabin is missing 3/4 of its features, and even if it weren't, there would be too many different entries to one hot encode. One could group cabins in some way, but this would, I believe at best, become a proxy for class. Similarly, using the ticket number as a predictive feature would be hard (at least, I'm not sure what to do with it). \n",
    "\n",
    "In the solution to this problem as an excercise in Hands On Machine Learning, the author suggests that one should group SibSp and Parch together as a feature Family_on_board. Also, he suggests that age brackets is probably a more relevant predictor than precise age. In imputing missing values, it would be good enough to take the median, although we will follow Geron's suggestion to impute values based on the median for the class. Neither the training nor test data have missing class entries, and so we won't handle the case where the class is a also a missing feature. "
   ]
  },
  {
   "cell_type": "code",
   "execution_count": 29,
   "id": "346b7daf-1c0e-45bf-896d-ada8ba71272a",
   "metadata": {},
   "outputs": [
    {
     "data": {
      "text/html": [
       "<div>\n",
       "<style scoped>\n",
       "    .dataframe tbody tr th:only-of-type {\n",
       "        vertical-align: middle;\n",
       "    }\n",
       "\n",
       "    .dataframe tbody tr th {\n",
       "        vertical-align: top;\n",
       "    }\n",
       "\n",
       "    .dataframe thead th {\n",
       "        text-align: right;\n",
       "    }\n",
       "</style>\n",
       "<table border=\"1\" class=\"dataframe\">\n",
       "  <thead>\n",
       "    <tr style=\"text-align: right;\">\n",
       "      <th></th>\n",
       "      <th>Pclass</th>\n",
       "      <th>count</th>\n",
       "      <th>mean</th>\n",
       "      <th>std</th>\n",
       "      <th>min</th>\n",
       "      <th>25%</th>\n",
       "      <th>50%</th>\n",
       "      <th>75%</th>\n",
       "      <th>max</th>\n",
       "    </tr>\n",
       "  </thead>\n",
       "  <tbody>\n",
       "    <tr>\n",
       "      <th>0</th>\n",
       "      <td>1</td>\n",
       "      <td>186.0</td>\n",
       "      <td>32.016129</td>\n",
       "      <td>15.186935</td>\n",
       "      <td>0.0</td>\n",
       "      <td>15.0</td>\n",
       "      <td>30.0</td>\n",
       "      <td>45.0</td>\n",
       "      <td>75.0</td>\n",
       "    </tr>\n",
       "    <tr>\n",
       "      <th>1</th>\n",
       "      <td>2</td>\n",
       "      <td>173.0</td>\n",
       "      <td>23.236994</td>\n",
       "      <td>13.859193</td>\n",
       "      <td>0.0</td>\n",
       "      <td>15.0</td>\n",
       "      <td>15.0</td>\n",
       "      <td>30.0</td>\n",
       "      <td>60.0</td>\n",
       "    </tr>\n",
       "    <tr>\n",
       "      <th>2</th>\n",
       "      <td>3</td>\n",
       "      <td>355.0</td>\n",
       "      <td>18.718310</td>\n",
       "      <td>12.355587</td>\n",
       "      <td>0.0</td>\n",
       "      <td>15.0</td>\n",
       "      <td>15.0</td>\n",
       "      <td>30.0</td>\n",
       "      <td>60.0</td>\n",
       "    </tr>\n",
       "  </tbody>\n",
       "</table>\n",
       "</div>"
      ],
      "text/plain": [
       "   Pclass  count       mean        std  min   25%   50%   75%   max\n",
       "0       1  186.0  32.016129  15.186935  0.0  15.0  30.0  45.0  75.0\n",
       "1       2  173.0  23.236994  13.859193  0.0  15.0  15.0  30.0  60.0\n",
       "2       3  355.0  18.718310  12.355587  0.0  15.0  15.0  30.0  60.0"
      ]
     },
     "execution_count": 29,
     "metadata": {},
     "output_type": "execute_result"
    }
   ],
   "source": [
    "features = ['Survived', 'Pclass', 'Sex', 'Fare', 'Embarked', 'FamilyOnBoard', 'AgeBucket']\n",
    "train_data['FamilyOnBoard'] = train_data['Parch'] + train_data['SibSp']\n",
    "test_data['FamilyOnBoard'] = test_data['Parch'] + test_data['SibSp']\n",
    "test_data[\"AgeBucket\"] = test_data[\"Age\"] // 15*15\n",
    "train_data[\"AgeBucket\"] = train_data[\"Age\"] // 15*15\n",
    "train_data_features = train_data[features]\n",
    "train_data_features.groupby('Pclass',as_index = False)['AgeBucket'].describe()"
   ]
  },
  {
   "cell_type": "markdown",
   "id": "4d309ee5-a6e0-424e-be4c-a891d88c4c2b",
   "metadata": {},
   "source": [
    "So there seems to be an important difference in average age between the classes. I found the following code here: https://stackoverflow.com/questions/51426255/how-to-impute-nan-values-based-on-values-of-other-column. I am also going to be a hack and just enter the numbers by hand, rather than picking out the specific values of a data frame. "
   ]
  },
  {
   "cell_type": "code",
   "execution_count": 30,
   "id": "6f5fcc49-4493-46b2-aa20-ba40fe06d524",
   "metadata": {},
   "outputs": [],
   "source": [
    "Class = [train_data['Pclass'] == 1, train_data['Pclass'] == 2, train_data['Pclass'] == 3]\n",
    "Values = [20,20,30]\n",
    "train_data_features['AgeBucket'] = np.where(train_data['AgeBucket'].isnull(), np.select(Class, Values), train_data['AgeBucket'])"
   ]
  },
  {
   "cell_type": "code",
   "execution_count": 31,
   "id": "82312e59-0a47-4c7b-a4ad-e81499d43056",
   "metadata": {},
   "outputs": [],
   "source": [
    "# Before I forget, I need to do the same thing to the test data.\n",
    "Class = [test_data['Pclass'] == 1,test_data['Pclass'] == 2,test_data['Pclass'] == 3]\n",
    "test_data['AgeBucket'] = np.where(test_data['AgeBucket'].isnull(), np.select(Class, Values), test_data['AgeBucket'])\n",
    "# This is a manual imputation. I need to impute the values from the train data into the test data. This is ensured by using the same \n",
    "# 'Values' array as what I got from the train data. \n",
    "# I don't think that I need to do anything to the training data from here -- I will make a pipeline which should handle everything. "
   ]
  },
  {
   "cell_type": "code",
   "execution_count": 32,
   "id": "ce4b293b-3a89-40c4-891b-ccb5f691468f",
   "metadata": {},
   "outputs": [
    {
     "data": {
      "text/plain": [
       "FamilyOnBoard\n",
       "0     537\n",
       "1     161\n",
       "2     102\n",
       "3      29\n",
       "5      22\n",
       "4      15\n",
       "6      12\n",
       "10      7\n",
       "7       6\n",
       "Name: count, dtype: int64"
      ]
     },
     "execution_count": 32,
     "metadata": {},
     "output_type": "execute_result"
    }
   ],
   "source": [
    "y = train_data_features['Survived']\n",
    "X = train_data_features.drop('Survived', axis = 1)\n",
    "X['FamilyOnBoard'].value_counts()"
   ]
  },
  {
   "cell_type": "markdown",
   "id": "a30a2ccb-dee5-456f-97e1-bdfc87154f29",
   "metadata": {},
   "source": [
    "So the family on board seems to drop off quite significantly after 3 members. I should change this so that the categories are 0, 1, 2 and >=3. This would also mean that I won't need to scale my data. I'll just leave the entry in the FamilyOnBoard column as 3 rather than changing it to a '>=3'or something like this since I would just need to encode it later anyway. "
   ]
  },
  {
   "cell_type": "code",
   "execution_count": 33,
   "id": "82e65dad-2628-4431-babf-3ac1bac0cbf3",
   "metadata": {},
   "outputs": [
    {
     "data": {
      "text/plain": [
       "FamilyOnBoard\n",
       "0    537\n",
       "1    161\n",
       "2    102\n",
       "3     91\n",
       "Name: count, dtype: int64"
      ]
     },
     "execution_count": 33,
     "metadata": {},
     "output_type": "execute_result"
    }
   ],
   "source": [
    "X['FamilyOnBoard'] = X['FamilyOnBoard'].apply(lambda x : 3 if x >= 3 else x)\n",
    "X['FamilyOnBoard'].value_counts()"
   ]
  },
  {
   "cell_type": "code",
   "execution_count": 34,
   "id": "ecef1dc1-5078-4381-b4b3-15886ff204f7",
   "metadata": {},
   "outputs": [],
   "source": [
    "OHE_encoder = Pipeline(\n",
    "    steps = [\n",
    "        (\"imputer\", SimpleImputer(strategy='most_frequent')),\n",
    "        (\"encoder\", OneHotEncoder())\n",
    "    ]\n",
    ")\n",
    "num_pipeline = Pipeline(\n",
    "    steps = [\n",
    "        (\"imputer\", SimpleImputer(strategy = 'mean')),\n",
    "        (\"scaler\", StandardScaler())\n",
    "    ]\n",
    ")\n",
    "preprocessor = ColumnTransformer(transformers = [\n",
    "    (\"num\", num_pipeline, ['Fare']), #I am treating the other numerical variables as categorical variables which have already been encoded.\n",
    "    (\"ord\", OrdinalEncoder(), ['Sex']),\n",
    "    (\"ordImputer\", SimpleImputer(strategy = 'most_frequent'), ['FamilyOnBoard', 'AgeBucket']),\n",
    "    (\"OHE\", OHE_encoder, ['Embarked'])\n",
    "])\n"
   ]
  },
  {
   "cell_type": "code",
   "execution_count": 35,
   "id": "811b8dbc-dcb3-4e9e-9c1d-a5d108a38881",
   "metadata": {},
   "outputs": [
    {
     "name": "stdout",
     "output_type": "stream",
     "text": [
      "0.7823033707865169\n",
      "[[374  70]\n",
      " [ 85 183]]\n"
     ]
    }
   ],
   "source": [
    "from sklearn.linear_model import LogisticRegression\n",
    "from sklearn.model_selection import train_test_split\n",
    "from sklearn.metrics import accuracy_score, confusion_matrix\n",
    "X_train, X_test, y_train, y_test = train_test_split(X, y, train_size = 0.8, random_state = 42)\n",
    "model = LogisticRegression()\n",
    "my_pipeline = Pipeline(steps = [('preprocessor', preprocessor),\n",
    "                              ('model', model)\n",
    "                             ])\n",
    "my_pipeline.fit(X_train,y_train)\n",
    "y_pred = my_pipeline.predict(X_train)\n",
    "Acc_score = accuracy_score(y_train, y_pred)\n",
    "print(Acc_score)\n",
    "print(confusion_matrix(y_train, y_pred))"
   ]
  },
  {
   "cell_type": "code",
   "execution_count": 36,
   "id": "79f37842-3848-4ad7-9b57-8470a56a5abf",
   "metadata": {},
   "outputs": [],
   "source": [
    "predictions = my_pipeline.predict(test_data)\n",
    "my_submission = pd.DataFrame({'PassengerId': test_data.index, 'Survived': predictions})\n",
    "my_submission.to_csv('RefinedLogitSubmission.csv', index=False)"
   ]
  },
  {
   "cell_type": "markdown",
   "id": "b26565c0-580d-46d2-90ef-78c7ca633a8c",
   "metadata": {},
   "source": [
    "This results in a score of .76555, which isn't any better than what I got with less feature engineering. It seems like the model has been changed, but not by enough to push some of the predictions over the threshold. I could compare the two models with binary cross entropy to see whether the predictions are going in the correct direction. Other improvements include:\n",
    " * I could create a custom test set which was designed to be representative of the data. Looking at X_test.describe(), it does seem like we could make a better train-test split, but I'm not sure how much of a difference this would make.\n",
    " * Given that the only about 38% of passengers survived, I wonder if it might make sense to increase the threshold for predicting survive slightly? I don't think that this would make a huge difference though -- looking at the confusion matrix, we can see that the number of false positives and false negatives are roughly similar."
   ]
  }
 ],
 "metadata": {
  "kernelspec": {
   "display_name": "Python 3 (ipykernel)",
   "language": "python",
   "name": "python3"
  },
  "language_info": {
   "codemirror_mode": {
    "name": "ipython",
    "version": 3
   },
   "file_extension": ".py",
   "mimetype": "text/x-python",
   "name": "python",
   "nbconvert_exporter": "python",
   "pygments_lexer": "ipython3",
   "version": "3.12.3"
  }
 },
 "nbformat": 4,
 "nbformat_minor": 5
}
